{
  "nbformat": 4,
  "nbformat_minor": 0,
  "metadata": {
    "colab": {
      "provenance": [],
      "authorship_tag": "ABX9TyPcJXNn7YE3dj7jtwrkQpei",
      "include_colab_link": true
    },
    "kernelspec": {
      "name": "python3",
      "display_name": "Python 3"
    },
    "language_info": {
      "name": "python"
    }
  },
  "cells": [
    {
      "cell_type": "markdown",
      "metadata": {
        "id": "view-in-github",
        "colab_type": "text"
      },
      "source": [
        "<a href=\"https://colab.research.google.com/github/himanshusharmaa52/Python-data-structure/blob/main/Python_Data_Structure.ipynb\" target=\"_parent\"><img src=\"https://colab.research.google.com/assets/colab-badge.svg\" alt=\"Open In Colab\"/></a>"
      ]
    },
    {
      "cell_type": "code",
      "execution_count": null,
      "metadata": {
        "id": "aCL5z4n_NeKc"
      },
      "outputs": [],
      "source": []
    },
    {
      "cell_type": "markdown",
      "source": [
        "**QUESTION 1 **\n",
        "What are data structures and why they are important?\n",
        "\n",
        "Answer 1:\n",
        "Data structures are ways to organize, manage, and store data in a computer so it can be accessed and modified efficiently. They provide a means to handle data in a structured format, making it easier to perform operations like searching, sorting, inserting, deleting, and updating.\n",
        "Why Data Structures are Important:\n",
        "1.They help in organizing and storing data efficiently for easy access and manipulation.\n",
        "2.Essential for interviews, competitive programming, and software development."
      ],
      "metadata": {
        "id": "roLBxCf5Nws2"
      }
    },
    {
      "cell_type": "markdown",
      "source": [
        " **QUESTION 2** explain the difference between mutable and immutable data types, with example\n",
        "\n",
        " Answer 2:\n",
        " Mutable and Immutable data types refer to whether or not the value of a data object can be changed after it is created.\n",
        " 1. Mutable Data Types\n",
        "->These are data types where the value can be changed or modified after the object is created, without changing the object reference.\n",
        "Examples: list, dict\n",
        "2.\n",
        "Mutable and Immutable data types refer to whether or not the value of a data object can be changed after it is created. Here's a breakdown:\n",
        "\n",
        "1. Mutable Data Types\n",
        "Definition: These are data types where the value can be changed or modified after the object is created, without changing the object reference.\n",
        "Examples: list, dict, set, bytearray\n",
        "Example:\n",
        "\n",
        "python\n",
        "Copy\n",
        "Edit\n",
        "# Mutable Example: List\n",
        "my_list = [1, 2, 3]\n",
        "print(id(my_list))  # Object's memory address\n",
        "\n",
        "# Modify the list\n",
        "my_list.append(4)\n",
        "print(my_list)  # [1, 2, 3, 4]\n",
        "print(id(my_list))  # Memory address remains the same\n",
        "Behavior: Even after modifying my_list, its reference (memory address) remains the same because the object itself is modified.\n",
        "\n",
        "2. Immutable Data Types\n",
        "\n",
        "-> These are data types where the value cannot be changed once the object is created. If any operation tries to modify it, a new object is created with the modified value.\n",
        "Examples: int, float, str, tuple\n",
        "\n"
      ],
      "metadata": {
        "id": "LkR7VjxuOhDI"
      }
    },
    {
      "cell_type": "code",
      "source": [
        "#Mutable Example (List):\n",
        "my_list = [1, 2, 3]\n",
        "my_list.append(4)  # Modify the list\n",
        "print(my_list)\n",
        "\n",
        "\n",
        "#Immutable Example (String):\n",
        "my_str = \"hello\"\n",
        "my_str += \" world\"  # Try to modify the string\n",
        "print(my_str)"
      ],
      "metadata": {
        "id": "2YHgPDVSRGos"
      },
      "execution_count": null,
      "outputs": []
    },
    {
      "cell_type": "markdown",
      "source": [
        "**Question 3** 3. What are the main differences between lists and tuples in Python?\n",
        "Answer:\n",
        "\n",
        "Lists are mutable, while tuples are immutable.\n",
        "\n",
        "Lists consume more memory; tuples are memory-efficient.\n",
        "\n",
        "Lists are slower due to mutability,while tuples are faster."
      ],
      "metadata": {
        "id": "NdmEYczxT6-i"
      }
    },
    {
      "cell_type": "code",
      "source": [
        "#example\n",
        "my_list = [1, 2, 3]  # Mutable\n",
        "my_tuple = (1, 2, 3)  # Immutable"
      ],
      "metadata": {
        "id": "2UVTUo2OUZB3"
      },
      "execution_count": null,
      "outputs": []
    },
    {
      "cell_type": "markdown",
      "source": [
        "Question 4 . Describe how dictionaries store data.\n",
        "\n",
        "answer 4:\n",
        "Answer: Dictionaries store data as key-value pairs. They use a hash table to map keys to their respective values, enabling fast lookups.\n",
        "Example: my_dict = {\"name\": \"John\", \"age\": 30}"
      ],
      "metadata": {
        "id": "y2zfBaaoUb9i"
      }
    },
    {
      "cell_type": "code",
      "source": [],
      "metadata": {
        "id": "Pb55gfpAUbRx"
      },
      "execution_count": null,
      "outputs": []
    },
    {
      "cell_type": "markdown",
      "source": [
        "Q5. Why might you use a set instead of a list in Python?\n",
        " Ans -> Sets are used when you need to store unique elements and perform fast operations like unions, intersections, or difference.\n",
        "Example:\n",
        "\n",
        "\n",
        "\n"
      ],
      "metadata": {
        "id": "3Zwc66ovUrhG"
      }
    },
    {
      "cell_type": "code",
      "source": [
        "#Example\n",
        "my_set = {1, 2, 3, 3} # Output: {1, 2, 3}"
      ],
      "metadata": {
        "id": "kM6UuxHDU8cD"
      },
      "execution_count": null,
      "outputs": []
    },
    {
      "cell_type": "markdown",
      "source": [
        "Q6. What is a string in Python, and how is it different from a list?\n",
        "\n",
        "Answer:\n",
        "\n",
        "A string is a sequence of characters, immutable.\n",
        "\n",
        "A list is a sequence of elements, mutable.\n",
        "Example:"
      ],
      "metadata": {
        "id": "y_YMHjeCVJro"
      }
    },
    {
      "cell_type": "code",
      "source": [
        "#EX\n",
        "my_string = \"hello\"  # Immutable\n",
        "my_list = [\"h\", \"e\", \"l\", \"l\", \"o\"]  # Mutable"
      ],
      "metadata": {
        "id": "K2kxKmgUVMp9"
      },
      "execution_count": null,
      "outputs": []
    },
    {
      "cell_type": "markdown",
      "source": [
        "Q7. How do tuples ensure data integrity in Python?\n",
        "\n",
        "Answer: Tuples are immutable, so their values cannot be altered after creation. This ensures data consistency."
      ],
      "metadata": {
        "id": "I_0Mn-kBVR-D"
      }
    },
    {
      "cell_type": "markdown",
      "source": [
        "8. What is a hash table, and how does it relate to dictionaries in Python?\n",
        "\n",
        "Answer: A hash table is a data structure that maps keys to values using a hash function. Dictionaries in Python use hash tables for efficient data storage and retrieval.\n",
        "\n"
      ],
      "metadata": {
        "id": "DPHLelHyVWx4"
      }
    },
    {
      "cell_type": "markdown",
      "source": [
        "9. Can lists contain different data types in Python?\n",
        "\n",
        "Answer: Yes, lists can hold elements of different data types.\n",
        "Example: my_list = [1, \"hello\", 3.14]"
      ],
      "metadata": {
        "id": "V60r9TpnVaow"
      }
    },
    {
      "cell_type": "markdown",
      "source": [
        "10. Explain why strings are immutable in Python.\n",
        "\n",
        "Answer: Strings are immutable to improve performance and memory usage. When modified, a new string is created instead of changing the original.\n",
        "\n"
      ],
      "metadata": {
        "id": "NdwId1wuVfy9"
      }
    },
    {
      "cell_type": "markdown",
      "source": [
        "11. What advantages do dictionaries offer over lists for certain tasks?\n",
        "\n",
        "Answer: Dictionaries provide faster lookups by key and are ideal for storing data with unique identifiers."
      ],
      "metadata": {
        "id": "CLBWhv6zVjeZ"
      }
    },
    {
      "cell_type": "markdown",
      "source": [
        "12. Describe a scenario where using a tuple would be preferable over a list.\n",
        "\n",
        "Answer: Use tuples when you want data to remain constant, such as storing coordinates (latitude, longitude)"
      ],
      "metadata": {
        "id": "A_L0PYUPVn6W"
      }
    },
    {
      "cell_type": "markdown",
      "source": [
        "13. How do sets handle duplicate values in Python?\n",
        "\n",
        "Answer: Sets automatically remove duplicate values.\n",
        "Example:"
      ],
      "metadata": {
        "id": "7YANqJVVVpBm"
      }
    },
    {
      "cell_type": "code",
      "source": [
        "#example\n",
        "my_set = {1, 2, 2, 3}  # Output: {1, 2, 3}"
      ],
      "metadata": {
        "id": "hunJ_kIRVq37"
      },
      "execution_count": null,
      "outputs": []
    },
    {
      "cell_type": "markdown",
      "source": [
        "14. How does the “in” keyword work differently for lists and dictionaries?\n",
        "\n",
        "Answer:\n",
        "\n",
        "For lists: Checks if the value exists.\n",
        "\n",
        "For dictionaries: Checks if the key exists.\n",
        "Example:"
      ],
      "metadata": {
        "id": "4NEcYbPdVuyX"
      }
    },
    {
      "cell_type": "code",
      "source": [
        "#example\n",
        "my_list = [1, 2, 3]\n",
        "print(2 in my_list)  # True\n",
        "\n",
        "my_dict = {\"a\": 1}\n",
        "print(\"a\" in my_dict)  # True\n"
      ],
      "metadata": {
        "id": "7i33oavEVxuO"
      },
      "execution_count": null,
      "outputs": []
    },
    {
      "cell_type": "markdown",
      "source": [
        "15. Can you modify the elements of a tuple? Explain why or why not.\n",
        "\n",
        "Answer: No, tuples are immutable, so their elements cannot be changed after creation."
      ],
      "metadata": {
        "id": "gQWCDZKOV7ns"
      }
    },
    {
      "cell_type": "markdown",
      "source": [
        "16. What is a nested dictionary, and give an example of its use case.\n",
        "\n",
        "Answer: A nested dictionary is a dictionary within a dictionary, used for storing hierarchical data.\n",
        "Example:\n",
        "\n",
        "#nested_dict = {\"person\": {\"name\": \"John\", \"age\": 30}}\n",
        "\n"
      ],
      "metadata": {
        "id": "8TZ-vgeKV8nO"
      }
    },
    {
      "cell_type": "markdown",
      "source": [
        "17. Describe the time complexity of accessing elements in a dictionary.\n",
        "\n",
        "Answer: Accessing elements in a dictionary has an average time complexity of O(1) due to hash table implementation.\n",
        "\n"
      ],
      "metadata": {
        "id": "xwSAPmy8WLeX"
      }
    },
    {
      "cell_type": "markdown",
      "source": [
        "18. In what situations are lists preferred over dictionaries?\n",
        "\n",
        "Answer: Lists are preferred when order matters or when storing a collection of elements without key-value pairs."
      ],
      "metadata": {
        "id": "85tVi4zEWMKI"
      }
    },
    {
      "cell_type": "markdown",
      "source": [
        "19. Why are dictionaries considered unordered, and how does that affect data retrieval?\n",
        "\n",
        "Answer: Dictionaries are unordered because they rely on hash functions. Data retrieval is based on keys, not insertion order (though Python 3.7+ maintains insertion order)."
      ],
      "metadata": {
        "id": "Bo9j7g2PWPW1"
      }
    },
    {
      "cell_type": "markdown",
      "source": [
        "20. Explain the difference between a list and a dictionary in terms of data retrieval.\n",
        "\n",
        "Answer:\n",
        "\n",
        "List: Data is retrieved by index.\n",
        "\n",
        "Dictionary: Data is retrieved by key."
      ],
      "metadata": {
        "id": "CpR5I0pUWRTD"
      }
    },
    {
      "cell_type": "markdown",
      "source": [
        "# New section\n",
        "**PRACTICAL QUESTIONS**"
      ],
      "metadata": {
        "id": "yIR9MXPeWWIs"
      }
    },
    {
      "cell_type": "markdown",
      "source": [
        "Q1. Create a string with your name and print it."
      ],
      "metadata": {
        "id": "sMAx2YlpWekx"
      }
    },
    {
      "cell_type": "code",
      "source": [
        "name = \"John\"\n",
        "print(name)"
      ],
      "metadata": {
        "id": "HTieEmurWl_P"
      },
      "execution_count": null,
      "outputs": []
    },
    {
      "cell_type": "markdown",
      "source": [
        "2. Find the length of the string \"Hello World\"."
      ],
      "metadata": {
        "id": "At-XvTTtWmvc"
      }
    },
    {
      "cell_type": "code",
      "source": [
        "print(len(\"Hello World\"))"
      ],
      "metadata": {
        "id": "xG5bhR1RWq9w"
      },
      "execution_count": null,
      "outputs": []
    },
    {
      "cell_type": "markdown",
      "source": [
        "3. Slice the first 3 characters from \"Python Programming\"."
      ],
      "metadata": {
        "id": "pIkn3UxGWt3t"
      }
    },
    {
      "cell_type": "code",
      "source": [
        "print(\"Python Programming\"[:3])"
      ],
      "metadata": {
        "id": "BP9vkeuFWwZ7"
      },
      "execution_count": null,
      "outputs": []
    },
    {
      "cell_type": "markdown",
      "source": [
        "4. Convert \"hello\" to uppercase."
      ],
      "metadata": {
        "id": "WSC-UQOXWzG2"
      }
    },
    {
      "cell_type": "code",
      "source": [
        "print(\"hello\".upper())"
      ],
      "metadata": {
        "id": "bVBmEmcBW37M"
      },
      "execution_count": null,
      "outputs": []
    },
    {
      "cell_type": "markdown",
      "source": [
        "5. Replace \"apple\" with \"orange\" in \"I like apple\"."
      ],
      "metadata": {
        "id": "5uUrohn3W7DL"
      }
    },
    {
      "cell_type": "code",
      "source": [
        "print(\"I like apple\".replace(\"apple\", \"orange\"))"
      ],
      "metadata": {
        "id": "CIsR2HbVW_vu"
      },
      "execution_count": null,
      "outputs": []
    },
    {
      "cell_type": "markdown",
      "source": [
        "6. Create a list with numbers 1 to 5 and print it."
      ],
      "metadata": {
        "id": "Vwt7EzDBXDg9"
      }
    },
    {
      "cell_type": "code",
      "source": [
        "my_list = [1, 2, 3, 4, 5]\n",
        "print(my_list)"
      ],
      "metadata": {
        "id": "ZniO5WCIXHAp"
      },
      "execution_count": null,
      "outputs": []
    },
    {
      "cell_type": "markdown",
      "source": [
        "7. Append the number 10 to the list [1, 2, 3, 4]."
      ],
      "metadata": {
        "id": "kohBvrZOXI0t"
      }
    },
    {
      "cell_type": "code",
      "source": [
        "my_list = [1, 2, 3, 4]\n",
        "my_list.append(10)\n",
        "print(my_list)"
      ],
      "metadata": {
        "id": "AUmUFC-VXLRe"
      },
      "execution_count": null,
      "outputs": []
    },
    {
      "cell_type": "markdown",
      "source": [],
      "metadata": {
        "id": "ek-ICZ53V_ma"
      }
    },
    {
      "cell_type": "markdown",
      "source": [
        "8. Remove the number 3 from the list [1, 2, 3, 4, 5]."
      ],
      "metadata": {
        "id": "tccENV9IXNfI"
      }
    },
    {
      "cell_type": "code",
      "source": [
        "my_list = [1, 2, 3, 4, 5]\n",
        "my_list.remove(3)\n",
        "print(my_list)"
      ],
      "metadata": {
        "id": "HoiRXK9VXQoi"
      },
      "execution_count": null,
      "outputs": []
    },
    {
      "cell_type": "markdown",
      "source": [
        "9. Access the second element in the list ['a', 'b', 'c', 'd']."
      ],
      "metadata": {
        "id": "7XjSu2r1XT6Z"
      }
    },
    {
      "cell_type": "code",
      "source": [
        "my_list = ['a', 'b', 'c', 'd']\n",
        "print(my_list[1])"
      ],
      "metadata": {
        "id": "EwFCtKi4XXLL"
      },
      "execution_count": null,
      "outputs": []
    },
    {
      "cell_type": "markdown",
      "source": [
        "10. Reverse the list [10, 20, 30, 40, 50]."
      ],
      "metadata": {
        "id": "ng8FCCF5XZJB"
      }
    },
    {
      "cell_type": "code",
      "source": [
        "my_list = [10, 20, 30, 40, 50]\n",
        "my_list.reverse()\n",
        "print(my_list)"
      ],
      "metadata": {
        "id": "3RJ2n2xrXgbb"
      },
      "execution_count": null,
      "outputs": []
    },
    {
      "cell_type": "markdown",
      "source": [
        "11. Create a tuple with elements 10, 20, 30 and print it."
      ],
      "metadata": {
        "id": "ADQTdeBYXizv"
      }
    },
    {
      "cell_type": "code",
      "source": [
        "my_tuple = (10, 20, 30)\n",
        "print(my_tuple)"
      ],
      "metadata": {
        "id": "nV2TAKtZXmZv"
      },
      "execution_count": null,
      "outputs": []
    },
    {
      "cell_type": "markdown",
      "source": [
        "12. Access the first element of the tuple ('apple', 'banana', 'cherry')."
      ],
      "metadata": {
        "id": "fLx_52m_XqXK"
      }
    },
    {
      "cell_type": "code",
      "source": [
        "my_tuple = ('apple', 'banana', 'cherry')\n",
        "print(my_tuple[0])"
      ],
      "metadata": {
        "id": "QgYtJl18Xtau"
      },
      "execution_count": null,
      "outputs": []
    },
    {
      "cell_type": "markdown",
      "source": [
        "13. Count how many times the number 2 appears in the tuple (1, 2, 3, 2, 4, 2)."
      ],
      "metadata": {
        "id": "MUTGG2kVXw-x"
      }
    },
    {
      "cell_type": "code",
      "source": [
        "my_tuple = (1, 2, 3, 2, 4, 2)\n",
        "print(my_tuple.count(2))"
      ],
      "metadata": {
        "id": "WkhQSY9sXy4G"
      },
      "execution_count": null,
      "outputs": []
    },
    {
      "cell_type": "markdown",
      "source": [
        "14. Find the index of \"cat\" in the tuple ('dog', 'cat', 'rabbit')."
      ],
      "metadata": {
        "id": "AR4D5eA8X1a4"
      }
    },
    {
      "cell_type": "code",
      "source": [
        "my_tuple = ('dog', 'cat', 'rabbit')\n",
        "print(my_tuple.index(\"cat\"))"
      ],
      "metadata": {
        "id": "ZazYWzLSX4Kp"
      },
      "execution_count": null,
      "outputs": []
    },
    {
      "cell_type": "markdown",
      "source": [
        "15. Check if \"banana\" is in the tuple ('apple', 'orange', 'banana')."
      ],
      "metadata": {
        "id": "rnit68zuX7-R"
      }
    },
    {
      "cell_type": "code",
      "source": [
        "my_tuple = ('apple', 'orange', 'banana')\n",
        "print(\"banana\" in my_tuple)"
      ],
      "metadata": {
        "id": "w2Vv3qe4YAkx"
      },
      "execution_count": null,
      "outputs": []
    },
    {
      "cell_type": "markdown",
      "source": [
        "16. Create a set with elements 1, 2, 3, 4, 5 and print it."
      ],
      "metadata": {
        "id": "Q1imQzahYFaY"
      }
    },
    {
      "cell_type": "code",
      "source": [
        "my_set = {1, 2, 3, 4, 5}\n",
        "print(my_set)"
      ],
      "metadata": {
        "id": "3QRdY0m7YGEy"
      },
      "execution_count": null,
      "outputs": []
    },
    {
      "cell_type": "markdown",
      "source": [
        "17. Add the element 6 to the set {1, 2, 3, 4}."
      ],
      "metadata": {
        "id": "WNjOpgv6YLqU"
      }
    },
    {
      "cell_type": "code",
      "source": [
        "my_set = {1, 2, 3, 4}\n",
        "my_set.add(6)\n",
        "print(my_set)"
      ],
      "metadata": {
        "id": "3oHFptkGYMhp"
      },
      "execution_count": null,
      "outputs": []
    },
    {
      "cell_type": "markdown",
      "source": [
        "18. Create a tuple with the elements 10, 20, 30 and print it."
      ],
      "metadata": {
        "id": "-sp8crM3ZVQI"
      }
    },
    {
      "cell_type": "code",
      "source": [
        "my_tuple = (10, 20, 30)\n",
        "print(my_tuple)"
      ],
      "metadata": {
        "id": "WliJdS5pZXhD"
      },
      "execution_count": null,
      "outputs": []
    },
    {
      "cell_type": "markdown",
      "source": [
        "19. Access the first element of the tuple ('apple', 'banana', 'cherry')"
      ],
      "metadata": {
        "id": "Yo9xT0ZgZZtq"
      }
    },
    {
      "cell_type": "code",
      "source": [
        "my_tuple = ('apple', 'banana', 'cherry')\n",
        "print(my_tuple[0])"
      ],
      "metadata": {
        "id": "ahNvIfaaZb6B"
      },
      "execution_count": null,
      "outputs": []
    },
    {
      "cell_type": "markdown",
      "source": [
        "20. Count how many times the number 2 appears in the tuple (1, 2, 3, 2, 4, 2)."
      ],
      "metadata": {
        "id": "Xj8e77lxZd7h"
      }
    },
    {
      "cell_type": "code",
      "source": [
        "my_tuple = (1, 2, 3, 2, 4, 2)\n",
        "print(my_tuple.count(2))"
      ],
      "metadata": {
        "id": "-TEGmMWhZg9i"
      },
      "execution_count": null,
      "outputs": []
    },
    {
      "cell_type": "markdown",
      "source": [
        "21. Find the index of the element \"cat\" in the tuple ('dog', 'cat', 'rabbit')."
      ],
      "metadata": {
        "id": "0hq-ZqM7ZjC0"
      }
    },
    {
      "cell_type": "code",
      "source": [
        "my_tuple = ('dog', 'cat', 'rabbit')\n",
        "print(my_tuple.index(\"cat\"))"
      ],
      "metadata": {
        "id": "FyuLB0PpZlMP"
      },
      "execution_count": null,
      "outputs": []
    },
    {
      "cell_type": "markdown",
      "source": [
        "22. Check if the element \"banana\" is in the tuple ('apple', 'orange', 'banana')"
      ],
      "metadata": {
        "id": "prMjNf2WZnBd"
      }
    },
    {
      "cell_type": "code",
      "source": [
        "my_tuple = ('apple', 'orange', 'banana')\n",
        "print(\"banana\" in my_tuple)"
      ],
      "metadata": {
        "id": "9pmpzuT6Zomf"
      },
      "execution_count": null,
      "outputs": []
    },
    {
      "cell_type": "markdown",
      "source": [
        "\n",
        "\n",
        "23. Create a set with the elements 1, 2, 3, 4, 5 and print it."
      ],
      "metadata": {
        "id": "FyvV3WKEZ638"
      }
    },
    {
      "cell_type": "code",
      "source": [
        "my_set = {1, 2, 3, 4, 5}\n",
        "print(my_set)"
      ],
      "metadata": {
        "id": "CtPZakKfZ7nV"
      },
      "execution_count": null,
      "outputs": []
    },
    {
      "cell_type": "markdown",
      "source": [
        "24. Add the element 6 to the set {1, 2, 3, 4}."
      ],
      "metadata": {
        "id": "CYAMBjvxZ9iU"
      }
    },
    {
      "cell_type": "code",
      "source": [
        "my_set = {1, 2, 3, 4}\n",
        "my_set.add(6)\n",
        "print(my_set)"
      ],
      "metadata": {
        "id": "e06yxgX_Z_zU"
      },
      "execution_count": null,
      "outputs": []
    }
  ]
}